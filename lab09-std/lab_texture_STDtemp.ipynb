{
 "cells": [
  {
   "cell_type": "markdown",
   "metadata": {},
   "source": [
    "# Lab - Texture Analysis"
   ]
  },
  {
   "cell_type": "markdown",
   "metadata": {},
   "source": [
    "## Part A\n",
    "\n",
    "### Objective\n",
    "\n",
    "The goal of this part is to segment the following photo into 3 segments: \n",
    "1. a segment for clothes with a jeans texture\n",
    "2. a segment for clothes with a cotton texture\n",
    "3. a segment for the background\n",
    "\n",
    "<img src='test.jpg' width=100px heigth=300px></img>"
   ]
  },
  {
   "cell_type": "code",
   "execution_count": 78,
   "metadata": {},
   "outputs": [],
   "source": [
    "# All the imports you will need in the whole lab\n",
    "from skimage.feature import greycomatrix, greycoprops\n",
    "from skimage import io\n",
    "from skimage.color import rgb2gray\n",
    "import matplotlib.pyplot as plt\n",
    "import os\n",
    "import numpy as np\n",
    "\n",
    "from skimage.exposure import histogram\n",
    "from matplotlib.pyplot import bar"
   ]
  },
  {
   "cell_type": "markdown",
   "metadata": {},
   "source": [
    "## Section 1\n",
    "\n",
    "In this section, you will extract features from image samples of the jeans and cotton texture using GLCM, then we will plot our feature space to see if our features are able to differentiate between the textures of jeans, cotton, and background. "
   ]
  },
  {
   "cell_type": "markdown",
   "metadata": {},
   "source": [
    "### TODO Implement get_glcm_features\n",
    "\n",
    "You will need the following two functions:\n",
    "\n",
    "greycomatrix, doc link -> https://scikit-image.org/docs/dev/api/skimage.feature.html#greycomatrix <br>\n",
    "greycoprops, doc link -> https://scikit-image.org/docs/dev/api/skimage.feature.html#skimage.feature.greycoprops"
   ]
  },
  {
   "cell_type": "code",
   "execution_count": 2,
   "metadata": {},
   "outputs": [],
   "source": [
    "def get_glcm_features(gray_scale_img):\n",
    "    \"\"\"\n",
    "    Given a grayscale image with graylevels from 0 - 255, this function returns the contrast\n",
    "    and the homogeneity features of the image with the help of GLCM\n",
    "    \"\"\"\n",
    "    # Tip: Make sure you understand the input-output of everything you write, \n",
    "    # not doing that results in bugs that make you believe the lab is long\n",
    "    \n",
    "    return contrast, homogeneity"
   ]
  },
  {
   "cell_type": "markdown",
   "metadata": {},
   "source": [
    "The following part will extract the contrast and homogeneity of samples of jeans and cotton in the folder \"imgs_patches\" using your function. So, for each sample image, we will have a point in a 2D feature space. Then, it will plot this feature space."
   ]
  },
  {
   "cell_type": "code",
   "execution_count": 3,
   "metadata": {},
   "outputs": [
    {
     "ename": "NameError",
     "evalue": "name 'contrast' is not defined",
     "output_type": "error",
     "traceback": [
      "\u001b[1;31m---------------------------------------------------------------------------\u001b[0m",
      "\u001b[1;31mNameError\u001b[0m                                 Traceback (most recent call last)",
      "\u001b[1;32m<ipython-input-3-626e8798e429>\u001b[0m in \u001b[0;36m<module>\u001b[1;34m\u001b[0m\n\u001b[0;32m     34\u001b[0m \u001b[0mfn_ft_list\u001b[0m \u001b[1;33m=\u001b[0m \u001b[1;33m[\u001b[0m\u001b[1;33m]\u001b[0m\u001b[1;33m\u001b[0m\u001b[1;33m\u001b[0m\u001b[0m\n\u001b[0;32m     35\u001b[0m \u001b[1;32mfor\u001b[0m \u001b[0mfn\u001b[0m\u001b[1;33m,\u001b[0m \u001b[0mimg\u001b[0m \u001b[1;32min\u001b[0m \u001b[0mfn_img_list\u001b[0m\u001b[1;33m:\u001b[0m\u001b[1;33m\u001b[0m\u001b[1;33m\u001b[0m\u001b[0m\n\u001b[1;32m---> 36\u001b[1;33m     \u001b[0mfn_ft_list\u001b[0m\u001b[1;33m.\u001b[0m\u001b[0mappend\u001b[0m\u001b[1;33m(\u001b[0m\u001b[1;33m(\u001b[0m\u001b[0mfn\u001b[0m\u001b[1;33m,\u001b[0m \u001b[0mget_glcm_features\u001b[0m\u001b[1;33m(\u001b[0m\u001b[0mimg\u001b[0m\u001b[1;33m)\u001b[0m\u001b[1;33m)\u001b[0m\u001b[1;33m)\u001b[0m\u001b[1;33m\u001b[0m\u001b[1;33m\u001b[0m\u001b[0m\n\u001b[0m\u001b[0;32m     37\u001b[0m \u001b[1;33m\u001b[0m\u001b[0m\n\u001b[0;32m     38\u001b[0m \u001b[0mplot_2d_features_with_names\u001b[0m\u001b[1;33m(\u001b[0m\u001b[0mfn_ft_list\u001b[0m\u001b[1;33m,\u001b[0m \u001b[1;34m'contrast'\u001b[0m\u001b[1;33m,\u001b[0m \u001b[1;34m'homogeneity'\u001b[0m\u001b[1;33m)\u001b[0m\u001b[1;33m\u001b[0m\u001b[1;33m\u001b[0m\u001b[0m\n",
      "\u001b[1;32m<ipython-input-2-694a0efcc8a6>\u001b[0m in \u001b[0;36mget_glcm_features\u001b[1;34m(gray_scale_img)\u001b[0m\n\u001b[0;32m      7\u001b[0m     \u001b[1;31m# not doing that results in bugs that make you believe the lab is long\u001b[0m\u001b[1;33m\u001b[0m\u001b[1;33m\u001b[0m\u001b[1;33m\u001b[0m\u001b[0m\n\u001b[0;32m      8\u001b[0m \u001b[1;33m\u001b[0m\u001b[0m\n\u001b[1;32m----> 9\u001b[1;33m     \u001b[1;32mreturn\u001b[0m \u001b[0mcontrast\u001b[0m\u001b[1;33m,\u001b[0m \u001b[0mhomogeneity\u001b[0m\u001b[1;33m\u001b[0m\u001b[1;33m\u001b[0m\u001b[0m\n\u001b[0m",
      "\u001b[1;31mNameError\u001b[0m: name 'contrast' is not defined"
     ]
    }
   ],
   "source": [
    "# You don't need to understand how this function works\n",
    "def get_fname_images_tuple(directory):\n",
    "    fnames = os.listdir(directory)\n",
    "    to_return = []\n",
    "    for fn in fnames:\n",
    "        if fn[-3:] == 'jpg':\n",
    "            path = os.path.join(directory, fn)\n",
    "            gray_scale_image = (rgb2gray(io.imread(path)) * 255).astype(np.uint8)\n",
    "            to_return.append((fn, gray_scale_image))\n",
    "        else:\n",
    "            print('This file has been skipped', fn)\n",
    "    return to_return\n",
    "\n",
    "# You don't need to understand how this function works\n",
    "def plot_2d_features_with_names(names_fts_list, xlabel, ylabel):\n",
    "    x = [names_fts[1][0] for names_fts in names_fts_list]\n",
    "    y = [names_fts[1][1] for names_fts in names_fts_list]\n",
    "    txts = [names_fts[0] for names_fts in names_fts_list]\n",
    "    \n",
    "    fig, ax = plt.subplots()\n",
    "    ax.scatter(x, y)\n",
    "\n",
    "    for i, txt in enumerate(txts):\n",
    "        ax.annotate(txt, (x[i], y[i]))\n",
    "    ax.grid()\n",
    "    ax.set_xlabel(xlabel)\n",
    "    ax.set_ylabel(ylabel)\n",
    "    fig = plt.gcf()\n",
    "    fig.set_size_inches(13, 8)\n",
    "    \n",
    "    \n",
    "fn_img_list = get_fname_images_tuple(r'imgs_patches')\n",
    "\n",
    "fn_ft_list = []\n",
    "for fn, img in fn_img_list:\n",
    "    fn_ft_list.append((fn, get_glcm_features(img)))\n",
    "    \n",
    "plot_2d_features_with_names(fn_ft_list, 'contrast', 'homogeneity')"
   ]
  },
  {
   "cell_type": "markdown",
   "metadata": {},
   "source": [
    "## Section 2\n",
    "\n",
    "You should have noticed that the previous section showed us that we can differentiate between jeans, cotton, & background patches using contrast and homogeneity. So, in this section, we will classify an unknown patch into one of those categories using a simple rule-based classifier. This will make us able to segment an image."
   ]
  },
  {
   "cell_type": "code",
   "execution_count": null,
   "metadata": {},
   "outputs": [],
   "source": [
    "# TODO implement this function\n",
    "\n",
    "def classify_patch(contrast, homogeneity):\n",
    "    \"\"\"\n",
    "    Given the contrast and homogeneity values of a certain image patch, this function \n",
    "    will return the class of the patch, i.e either 'jeans', 'cotton', or 'background'\n",
    "    \"\"\"\n",
    "    # Hint: We can decide whether the patch is background or not by simply checking 'if' the homogeneity is greater than a certain float value\n",
    "    \n",
    "    return <string of class>"
   ]
  },
  {
   "cell_type": "markdown",
   "metadata": {},
   "source": [
    "### TODO Complete todos in segment_img\n",
    "\n",
    "This function is given an RGB image, and returns the segmented image coloring jeans patches in green, cotton patches in red, and the background in blue. Your final output should look like the following image:\n",
    "\n",
    "<img src='target_output.jpg' width=100px heigth=300px></img>"
   ]
  },
  {
   "cell_type": "code",
   "execution_count": null,
   "metadata": {},
   "outputs": [],
   "source": [
    "def segment_img(image):\n",
    "    img = image.copy()\n",
    "    patch_height = patch_width = 50\n",
    "    \n",
    "    # TODO complete the following skeleton\n",
    "    \n",
    "    # loop on the image patch by patch\n",
    "    <Outer loop>\n",
    "        <Inner loop>\n",
    "            patch = <get the corresponding image patch>\n",
    "            \n",
    "            patch_grayscale = (rgb2gray(patch) * 255).astype(np.uint8)\n",
    "            \n",
    "            contrast, homogeneity = <get the features of patch_grayscale>\n",
    "            classification = <get the classification of patch_grayscale>\n",
    "            \n",
    "            if classification == 'cotton':\n",
    "                patch[:,:, 0] = 255\n",
    "            elif classification == 'jeans':\n",
    "                patch[:,:, 1] = 255\n",
    "            else:\n",
    "                patch[:,:,2] = 255\n",
    "                \n",
    "    return img"
   ]
  },
  {
   "cell_type": "code",
   "execution_count": null,
   "metadata": {},
   "outputs": [],
   "source": [
    "# Testing your work\n",
    "image = io.imread('test.jpg')\n",
    "segmented_image = segment_img(image)\n",
    "io.imshow(segmented_image)"
   ]
  },
  {
   "cell_type": "markdown",
   "metadata": {},
   "source": [
    "## Part B\n",
    "\n",
    "You are required to implement your own function that computes the LBP histogram of a grayscale image (return to lecture slides for reference attached in this lab folder).\n",
    "\n",
    "#### Note: you are allowed to ignore image border pixels."
   ]
  },
  {
   "cell_type": "code",
   "execution_count": 83,
   "metadata": {},
   "outputs": [],
   "source": [
    "def showHist(img,histogramImg):\n",
    "    plt.figure()\n",
    "    bar(255, histogramImg[0], width=0.4, align='center')"
   ]
  },
  {
   "cell_type": "code",
   "execution_count": 84,
   "metadata": {},
   "outputs": [],
   "source": [
    "def get_lbp_hist(grayscale_img):\n",
    "    histo = np.zeros(256)\n",
    "    SE = 3\n",
    "    img  = grayscale_img\n",
    "    for x in range(len(img)):\n",
    "        if(x==img.shape[0]-SE-1):\n",
    "            break\n",
    "        for y in range(len(img[0])):\n",
    "            if(y==img.shape[1]-SE-1):\n",
    "                break\n",
    "            window=np.zeros((SE,SE))\n",
    "            window=img[x:x+SE,y:y+SE]\n",
    "            temp = 0b00000000\n",
    "            num = window[1][1]\n",
    "            # hany for\n",
    "            temp = temp or ((window[0][0] > num) << 0)\n",
    "            temp = temp or ((window[0][1] > num) << 1)\n",
    "            temp = temp or ((window[0][2] > num) << 2)\n",
    "            temp = temp or ((window[1][2] > num) << 3)\n",
    "            temp = temp or ((window[2][2] > num) << 4)\n",
    "            temp = temp or ((window[2][1] > num) << 5)\n",
    "            temp = temp or ((window[2][0] > num) << 6)\n",
    "            temp = temp or ((window[1][0] > num) << 7)\n",
    "            #print(temp)\n",
    "#             print(histo[temp])\n",
    "            histo[temp] = histo[temp] + 1\n",
    "#            print(histo[temp])\n",
    "            \n",
    "    return histo"
   ]
  },
  {
   "cell_type": "code",
   "execution_count": 85,
   "metadata": {},
   "outputs": [
    {
     "name": "stdout",
     "output_type": "stream",
     "text": [
      "AAAAAAAAAAAAAAAAAAAAAAAA\n"
     ]
    },
    {
     "data": {
      "text/plain": [
       "'ignore function output'"
      ]
     },
     "execution_count": 85,
     "metadata": {},
     "output_type": "execute_result"
    },
    {
     "data": {
      "image/png": "[encoded data removed]",
      "text/plain": [
       "<Figure size 432x288 with 1 Axes>"
      ]
     },
     "metadata": {
      "needs_background": "light"
     },
     "output_type": "display_data"
    }
   ],
   "source": [
    "# Testing your work, we will compare your histogram with that of ours\n",
    "# There should be a noticable difference between the histograms of jeans and cotton\n",
    "img = rgb2gray(io.imread(r'imgs_patches\\jeans1.jpg'))\n",
    "hist = get_lbp_hist(img)\n",
    "print(\"AAAAAAAAAAAAAAAAAAAAAAAA\")\n",
    "#print(hist)\n",
    "#plt.hist(hist.astype(int), bins=range((2 ** 8)))\n",
    "showHist(img, hist)\n",
    "'ignore function output'"
   ]
  },
  {
   "cell_type": "code",
   "execution_count": 55,
   "metadata": {},
   "outputs": [
    {
     "data": {
      "text/plain": [
       "'ignore function output'"
      ]
     },
     "execution_count": 55,
     "metadata": {},
     "output_type": "execute_result"
    },
    {
     "data": {
      "image/png": "[encoded data removed]",
      "text/plain": [
       "<Figure size 432x288 with 1 Axes>"
      ]
     },
     "metadata": {
      "needs_background": "light"
     },
     "output_type": "display_data"
    }
   ],
   "source": [
    "# Testing your work, we will compare your histogram with that of ours\n",
    "# There should be a noticable difference between the histograms of jeans and cotton\n",
    "img = rgb2gray(io.imread(r'imgs_patches\\cotton1.jpg'))\n",
    "hist = get_lbp_hist(img)\n",
    "plt.hist(hist, bins=range((2 ** 8)))\n",
    "'ignore function output'"
   ]
  },
  {
   "cell_type": "code",
   "execution_count": null,
   "metadata": {},
   "outputs": [],
   "source": []
  },
  {
   "cell_type": "code",
   "execution_count": null,
   "metadata": {},
   "outputs": [],
   "source": []
  }
 ],
 "metadata": {
  "kernelspec": {
   "display_name": "Python 3",
   "language": "python",
   "name": "python3"
  },
  "language_info": {
   "codemirror_mode": {
    "name": "ipython",
    "version": 3
   },
   "file_extension": ".py",
   "mimetype": "text/x-python",
   "name": "python",
   "nbconvert_exporter": "python",
   "pygments_lexer": "ipython3",
   "version": "3.8.5"
  }
 },
 "nbformat": 4,
 "nbformat_minor": 2
}
